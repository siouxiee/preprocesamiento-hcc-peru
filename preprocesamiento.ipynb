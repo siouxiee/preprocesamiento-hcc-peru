{
 "cells": [
  {
   "cell_type": "code",
   "execution_count": 1,
   "metadata": {},
   "outputs": [],
   "source": [
    "import numpy as np\n",
    "import pandas as pd\n",
    "from sklearn.model_selection import LeaveOneOut, GridSearchCV, StratifiedKFold\n",
    "from sklearn.feature_selection import mutual_info_classif, RFE, SelectKBest, f_classif\n",
    "from sklearn.preprocessing import LabelEncoder, MinMaxScaler, StandardScaler\n",
    "from sklearn.decomposition import PCA"
   ]
  },
  {
   "cell_type": "markdown",
   "metadata": {},
   "source": [
    "### Lectura de Datos"
   ]
  },
  {
   "cell_type": "code",
   "execution_count": 2,
   "metadata": {},
   "outputs": [],
   "source": [
    "# Carga de datos\n",
    "DATA_PATH = '/data/sespinoza/objetivo2/'\n",
    "data = pd.read_csv(DATA_PATH + 'normalized_expression_mapped_peru.csv', header=0, index_col=0, sep=',', encoding='utf-8')"
   ]
  },
  {
   "cell_type": "markdown",
   "metadata": {},
   "source": [
    "### Manejo de Nulos y Duplicados"
   ]
  },
  {
   "cell_type": "code",
   "execution_count": 3,
   "metadata": {},
   "outputs": [
    {
     "name": "stdout",
     "output_type": "stream",
     "text": [
      "0\n"
     ]
    }
   ],
   "source": [
    "print(data.isnull().sum().sum())"
   ]
  },
  {
   "cell_type": "code",
   "execution_count": 4,
   "metadata": {},
   "outputs": [],
   "source": [
    "#borra los nulos\n",
    "data = data.dropna()"
   ]
  },
  {
   "cell_type": "code",
   "execution_count": 5,
   "metadata": {},
   "outputs": [
    {
     "data": {
      "text/html": [
       "<div>\n",
       "<style scoped>\n",
       "    .dataframe tbody tr th:only-of-type {\n",
       "        vertical-align: middle;\n",
       "    }\n",
       "\n",
       "    .dataframe tbody tr th {\n",
       "        vertical-align: top;\n",
       "    }\n",
       "\n",
       "    .dataframe thead th {\n",
       "        text-align: right;\n",
       "    }\n",
       "</style>\n",
       "<table border=\"1\" class=\"dataframe\">\n",
       "  <thead>\n",
       "    <tr style=\"text-align: right;\">\n",
       "      <th></th>\n",
       "      <th>GSM4043276_HCC004_HTA_2_0.CEL</th>\n",
       "      <th>GSM4043277_HCC011_HTA_2_0.CEL</th>\n",
       "      <th>GSM4043278_HCC013_HTA_2_0.CEL</th>\n",
       "      <th>GSM4043279_HCC015_HTA_2_0.CEL</th>\n",
       "      <th>GSM4043280_HCC016_HTA_2_0.CEL</th>\n",
       "      <th>GSM4043281_HCC025_HTA_2_0.CEL</th>\n",
       "      <th>GSM4043282_HCC026_HTA_2_0.CEL</th>\n",
       "      <th>GSM4043283_HCC034_HTA_2_0.CEL</th>\n",
       "      <th>GSM4043284_HCC047_HTA_2_0.CEL</th>\n",
       "      <th>GSM4043285_HCC054_HTA_2_0.CEL</th>\n",
       "      <th>...</th>\n",
       "      <th>GSM4043336_NTL121_HTA_2_0.CEL</th>\n",
       "      <th>GSM4043337_NTL173_HTA_2_0.CEL</th>\n",
       "      <th>GSM4043338_NTL188_HTA_2_0.CEL</th>\n",
       "      <th>GSM4043339_NTL190_HTA_2_0.CEL</th>\n",
       "      <th>GSM4043340_NTL191_HTA_2_0.CEL</th>\n",
       "      <th>GSM4043341_NTL192_HTA_2_0.CEL</th>\n",
       "      <th>GSM4043342_NTL193_HTA_2_0.CEL</th>\n",
       "      <th>GSM4043343_NTL200_HTA_2_0.CEL</th>\n",
       "      <th>GSM4043344_NTL201_HTA_2_0.CEL</th>\n",
       "      <th>GeneSymbol</th>\n",
       "    </tr>\n",
       "  </thead>\n",
       "  <tbody>\n",
       "    <tr>\n",
       "      <th>TC01000001.hg.1</th>\n",
       "      <td>5.556382</td>\n",
       "      <td>5.385476</td>\n",
       "      <td>5.582431</td>\n",
       "      <td>5.321239</td>\n",
       "      <td>5.580150</td>\n",
       "      <td>5.090377</td>\n",
       "      <td>5.543542</td>\n",
       "      <td>5.815775</td>\n",
       "      <td>5.781128</td>\n",
       "      <td>5.462648</td>\n",
       "      <td>...</td>\n",
       "      <td>5.747558</td>\n",
       "      <td>5.685633</td>\n",
       "      <td>5.678107</td>\n",
       "      <td>5.479305</td>\n",
       "      <td>5.159973</td>\n",
       "      <td>5.572072</td>\n",
       "      <td>5.586533</td>\n",
       "      <td>5.509569</td>\n",
       "      <td>5.263971</td>\n",
       "      <td>DDX11L1</td>\n",
       "    </tr>\n",
       "    <tr>\n",
       "      <th>TC01000003.hg.1</th>\n",
       "      <td>3.522511</td>\n",
       "      <td>3.011026</td>\n",
       "      <td>3.754522</td>\n",
       "      <td>3.216142</td>\n",
       "      <td>3.343459</td>\n",
       "      <td>3.151042</td>\n",
       "      <td>3.232807</td>\n",
       "      <td>3.496659</td>\n",
       "      <td>3.271508</td>\n",
       "      <td>3.475425</td>\n",
       "      <td>...</td>\n",
       "      <td>3.641678</td>\n",
       "      <td>3.554388</td>\n",
       "      <td>3.807339</td>\n",
       "      <td>3.292701</td>\n",
       "      <td>3.069621</td>\n",
       "      <td>3.794532</td>\n",
       "      <td>3.673249</td>\n",
       "      <td>3.423120</td>\n",
       "      <td>3.463470</td>\n",
       "      <td>OR4F5</td>\n",
       "    </tr>\n",
       "    <tr>\n",
       "      <th>TC01000005.hg.1</th>\n",
       "      <td>8.388213</td>\n",
       "      <td>8.461633</td>\n",
       "      <td>8.107028</td>\n",
       "      <td>8.165957</td>\n",
       "      <td>8.615982</td>\n",
       "      <td>8.331395</td>\n",
       "      <td>8.491633</td>\n",
       "      <td>8.543905</td>\n",
       "      <td>8.646759</td>\n",
       "      <td>8.200830</td>\n",
       "      <td>...</td>\n",
       "      <td>8.313295</td>\n",
       "      <td>8.007746</td>\n",
       "      <td>8.127470</td>\n",
       "      <td>8.079236</td>\n",
       "      <td>8.439039</td>\n",
       "      <td>8.140706</td>\n",
       "      <td>8.413719</td>\n",
       "      <td>8.269379</td>\n",
       "      <td>8.615382</td>\n",
       "      <td>LINC01001</td>\n",
       "    </tr>\n",
       "    <tr>\n",
       "      <th>TC01000007.hg.1</th>\n",
       "      <td>11.313075</td>\n",
       "      <td>11.423049</td>\n",
       "      <td>11.083901</td>\n",
       "      <td>11.134547</td>\n",
       "      <td>11.388560</td>\n",
       "      <td>11.209667</td>\n",
       "      <td>11.249790</td>\n",
       "      <td>11.319392</td>\n",
       "      <td>11.483748</td>\n",
       "      <td>11.555652</td>\n",
       "      <td>...</td>\n",
       "      <td>11.500850</td>\n",
       "      <td>10.496035</td>\n",
       "      <td>11.170733</td>\n",
       "      <td>10.906176</td>\n",
       "      <td>11.196305</td>\n",
       "      <td>11.003916</td>\n",
       "      <td>11.591072</td>\n",
       "      <td>11.292875</td>\n",
       "      <td>11.805233</td>\n",
       "      <td>LINC01061</td>\n",
       "    </tr>\n",
       "    <tr>\n",
       "      <th>TC01000009.hg.1</th>\n",
       "      <td>3.510059</td>\n",
       "      <td>3.054648</td>\n",
       "      <td>3.632833</td>\n",
       "      <td>3.064161</td>\n",
       "      <td>3.315992</td>\n",
       "      <td>2.796682</td>\n",
       "      <td>3.583861</td>\n",
       "      <td>2.924338</td>\n",
       "      <td>3.181977</td>\n",
       "      <td>2.668511</td>\n",
       "      <td>...</td>\n",
       "      <td>3.061490</td>\n",
       "      <td>3.128445</td>\n",
       "      <td>3.478542</td>\n",
       "      <td>3.024672</td>\n",
       "      <td>2.822522</td>\n",
       "      <td>3.299731</td>\n",
       "      <td>2.986613</td>\n",
       "      <td>3.001979</td>\n",
       "      <td>3.001183</td>\n",
       "      <td>OR4F29</td>\n",
       "    </tr>\n",
       "  </tbody>\n",
       "</table>\n",
       "<p>5 rows × 70 columns</p>\n",
       "</div>"
      ],
      "text/plain": [
       "                 GSM4043276_HCC004_HTA_2_0.CEL  GSM4043277_HCC011_HTA_2_0.CEL  \\\n",
       "TC01000001.hg.1                       5.556382                       5.385476   \n",
       "TC01000003.hg.1                       3.522511                       3.011026   \n",
       "TC01000005.hg.1                       8.388213                       8.461633   \n",
       "TC01000007.hg.1                      11.313075                      11.423049   \n",
       "TC01000009.hg.1                       3.510059                       3.054648   \n",
       "\n",
       "                 GSM4043278_HCC013_HTA_2_0.CEL  GSM4043279_HCC015_HTA_2_0.CEL  \\\n",
       "TC01000001.hg.1                       5.582431                       5.321239   \n",
       "TC01000003.hg.1                       3.754522                       3.216142   \n",
       "TC01000005.hg.1                       8.107028                       8.165957   \n",
       "TC01000007.hg.1                      11.083901                      11.134547   \n",
       "TC01000009.hg.1                       3.632833                       3.064161   \n",
       "\n",
       "                 GSM4043280_HCC016_HTA_2_0.CEL  GSM4043281_HCC025_HTA_2_0.CEL  \\\n",
       "TC01000001.hg.1                       5.580150                       5.090377   \n",
       "TC01000003.hg.1                       3.343459                       3.151042   \n",
       "TC01000005.hg.1                       8.615982                       8.331395   \n",
       "TC01000007.hg.1                      11.388560                      11.209667   \n",
       "TC01000009.hg.1                       3.315992                       2.796682   \n",
       "\n",
       "                 GSM4043282_HCC026_HTA_2_0.CEL  GSM4043283_HCC034_HTA_2_0.CEL  \\\n",
       "TC01000001.hg.1                       5.543542                       5.815775   \n",
       "TC01000003.hg.1                       3.232807                       3.496659   \n",
       "TC01000005.hg.1                       8.491633                       8.543905   \n",
       "TC01000007.hg.1                      11.249790                      11.319392   \n",
       "TC01000009.hg.1                       3.583861                       2.924338   \n",
       "\n",
       "                 GSM4043284_HCC047_HTA_2_0.CEL  GSM4043285_HCC054_HTA_2_0.CEL  \\\n",
       "TC01000001.hg.1                       5.781128                       5.462648   \n",
       "TC01000003.hg.1                       3.271508                       3.475425   \n",
       "TC01000005.hg.1                       8.646759                       8.200830   \n",
       "TC01000007.hg.1                      11.483748                      11.555652   \n",
       "TC01000009.hg.1                       3.181977                       2.668511   \n",
       "\n",
       "                 ...  GSM4043336_NTL121_HTA_2_0.CEL  \\\n",
       "TC01000001.hg.1  ...                       5.747558   \n",
       "TC01000003.hg.1  ...                       3.641678   \n",
       "TC01000005.hg.1  ...                       8.313295   \n",
       "TC01000007.hg.1  ...                      11.500850   \n",
       "TC01000009.hg.1  ...                       3.061490   \n",
       "\n",
       "                 GSM4043337_NTL173_HTA_2_0.CEL  GSM4043338_NTL188_HTA_2_0.CEL  \\\n",
       "TC01000001.hg.1                       5.685633                       5.678107   \n",
       "TC01000003.hg.1                       3.554388                       3.807339   \n",
       "TC01000005.hg.1                       8.007746                       8.127470   \n",
       "TC01000007.hg.1                      10.496035                      11.170733   \n",
       "TC01000009.hg.1                       3.128445                       3.478542   \n",
       "\n",
       "                 GSM4043339_NTL190_HTA_2_0.CEL  GSM4043340_NTL191_HTA_2_0.CEL  \\\n",
       "TC01000001.hg.1                       5.479305                       5.159973   \n",
       "TC01000003.hg.1                       3.292701                       3.069621   \n",
       "TC01000005.hg.1                       8.079236                       8.439039   \n",
       "TC01000007.hg.1                      10.906176                      11.196305   \n",
       "TC01000009.hg.1                       3.024672                       2.822522   \n",
       "\n",
       "                 GSM4043341_NTL192_HTA_2_0.CEL  GSM4043342_NTL193_HTA_2_0.CEL  \\\n",
       "TC01000001.hg.1                       5.572072                       5.586533   \n",
       "TC01000003.hg.1                       3.794532                       3.673249   \n",
       "TC01000005.hg.1                       8.140706                       8.413719   \n",
       "TC01000007.hg.1                      11.003916                      11.591072   \n",
       "TC01000009.hg.1                       3.299731                       2.986613   \n",
       "\n",
       "                 GSM4043343_NTL200_HTA_2_0.CEL  GSM4043344_NTL201_HTA_2_0.CEL  \\\n",
       "TC01000001.hg.1                       5.509569                       5.263971   \n",
       "TC01000003.hg.1                       3.423120                       3.463470   \n",
       "TC01000005.hg.1                       8.269379                       8.615382   \n",
       "TC01000007.hg.1                      11.292875                      11.805233   \n",
       "TC01000009.hg.1                       3.001979                       3.001183   \n",
       "\n",
       "                 GeneSymbol  \n",
       "TC01000001.hg.1     DDX11L1  \n",
       "TC01000003.hg.1       OR4F5  \n",
       "TC01000005.hg.1   LINC01001  \n",
       "TC01000007.hg.1   LINC01061  \n",
       "TC01000009.hg.1      OR4F29  \n",
       "\n",
       "[5 rows x 70 columns]"
      ]
     },
     "execution_count": 5,
     "metadata": {},
     "output_type": "execute_result"
    }
   ],
   "source": [
    "data.head()"
   ]
  },
  {
   "cell_type": "code",
   "execution_count": 6,
   "metadata": {},
   "outputs": [],
   "source": [
    "data = data.drop_duplicates(subset='GeneSymbol', keep='first')"
   ]
  },
  {
   "cell_type": "markdown",
   "metadata": {},
   "source": [
    "### Generar etiqueta a predecir"
   ]
  },
  {
   "cell_type": "code",
   "execution_count": 7,
   "metadata": {},
   "outputs": [],
   "source": [
    "data.set_index('GeneSymbol', inplace=True)"
   ]
  },
  {
   "cell_type": "code",
   "execution_count": 8,
   "metadata": {},
   "outputs": [
    {
     "name": "stdout",
     "output_type": "stream",
     "text": [
      "['cancer', 'cancer', 'cancer', 'cancer', 'cancer', 'cancer', 'cancer', 'cancer', 'cancer', 'cancer', 'cancer', 'cancer', 'cancer', 'cancer', 'cancer', 'cancer', 'cancer', 'cancer', 'cancer', 'cancer', 'cancer', 'cancer', 'cancer', 'cancer', 'cancer', 'cancer', 'cancer', 'cancer', 'cancer', 'cancer', 'cancer', 'cancer', 'cancer', 'cancer', 'cancer', 'cancer', 'cancer', 'cancer', 'cancer', 'healthy', 'healthy', 'healthy', 'healthy', 'healthy', 'healthy', 'healthy', 'healthy', 'healthy', 'healthy', 'healthy', 'healthy', 'healthy', 'healthy', 'healthy', 'healthy', 'healthy', 'healthy', 'healthy', 'healthy', 'healthy', 'healthy', 'healthy', 'healthy', 'healthy', 'healthy', 'healthy', 'healthy', 'healthy', 'healthy']\n"
     ]
    }
   ],
   "source": [
    "labels_ma = ['cancer' if 'HCC' in col else 'healthy' if 'NTL' in col else 'unknown' for col in data.columns]\n",
    "print(labels_ma)"
   ]
  },
  {
   "cell_type": "code",
   "execution_count": 9,
   "metadata": {},
   "outputs": [
    {
     "name": "stdout",
     "output_type": "stream",
     "text": [
      "GSM4043276_HCC004_HTA_2_0.CEL     cancer\n",
      "GSM4043277_HCC011_HTA_2_0.CEL     cancer\n",
      "GSM4043278_HCC013_HTA_2_0.CEL     cancer\n",
      "GSM4043279_HCC015_HTA_2_0.CEL     cancer\n",
      "GSM4043280_HCC016_HTA_2_0.CEL     cancer\n",
      "                                  ...   \n",
      "GSM4043340_NTL191_HTA_2_0.CEL    healthy\n",
      "GSM4043341_NTL192_HTA_2_0.CEL    healthy\n",
      "GSM4043342_NTL193_HTA_2_0.CEL    healthy\n",
      "GSM4043343_NTL200_HTA_2_0.CEL    healthy\n",
      "GSM4043344_NTL201_HTA_2_0.CEL    healthy\n",
      "Name: labels, Length: 69, dtype: object\n"
     ]
    }
   ],
   "source": [
    "data = data.T\n",
    "# Añadir las etiquetas al DataFrame\n",
    "data['labels'] = labels_ma\n",
    "# Mostrar las etiquetas asignadas\n",
    "print(data['labels'])"
   ]
  },
  {
   "cell_type": "code",
   "execution_count": 10,
   "metadata": {},
   "outputs": [
    {
     "name": "stdout",
     "output_type": "stream",
     "text": [
      "cancer     39\n",
      "healthy    30\n",
      "Name: labels, dtype: int64\n"
     ]
    }
   ],
   "source": [
    "#borra todas las filas donde labels es unknown y cuenta cuantos hay\n",
    "print(data.labels.value_counts())\n",
    "data = data[data.labels != 'unknown']"
   ]
  },
  {
   "cell_type": "code",
   "execution_count": 11,
   "metadata": {},
   "outputs": [],
   "source": [
    "#guarda data en un archivo csv\n",
    "data.to_csv(DATA_PATH + 'data_peru_prep.csv')"
   ]
  },
  {
   "cell_type": "code",
   "execution_count": 12,
   "metadata": {},
   "outputs": [],
   "source": [
    "#AFP, F2, CEACAM5, TP53 and CD8A"
   ]
  },
  {
   "cell_type": "code",
   "execution_count": 13,
   "metadata": {},
   "outputs": [],
   "source": [
    "data_p1 = data.loc[:, ['AFP', 'F2', 'CEACAM5', 'TP53', 'CD8A', 'labels']]"
   ]
  },
  {
   "cell_type": "code",
   "execution_count": 14,
   "metadata": {},
   "outputs": [],
   "source": [
    "#ASPM, CCNB1, CDK1, DLGAP5, KIF20 A, MT1X, and TOP2A\n",
    "data_p2 = data.loc[:, ['ASPM', 'CCNB1', 'CDK1', 'DLGAP5', 'KIF20A', 'MT1X', 'TOP2A', 'labels']]"
   ]
  },
  {
   "cell_type": "code",
   "execution_count": 15,
   "metadata": {},
   "outputs": [
    {
     "data": {
      "text/html": [
       "<div>\n",
       "<style scoped>\n",
       "    .dataframe tbody tr th:only-of-type {\n",
       "        vertical-align: middle;\n",
       "    }\n",
       "\n",
       "    .dataframe tbody tr th {\n",
       "        vertical-align: top;\n",
       "    }\n",
       "\n",
       "    .dataframe thead th {\n",
       "        text-align: right;\n",
       "    }\n",
       "</style>\n",
       "<table border=\"1\" class=\"dataframe\">\n",
       "  <thead>\n",
       "    <tr style=\"text-align: right;\">\n",
       "      <th>GeneSymbol</th>\n",
       "      <th>AFP</th>\n",
       "      <th>F2</th>\n",
       "      <th>CEACAM5</th>\n",
       "      <th>TP53</th>\n",
       "      <th>CD8A</th>\n",
       "      <th>labels</th>\n",
       "    </tr>\n",
       "  </thead>\n",
       "  <tbody>\n",
       "    <tr>\n",
       "      <th>GSM4043276_HCC004_HTA_2_0.CEL</th>\n",
       "      <td>3.351665</td>\n",
       "      <td>10.141542</td>\n",
       "      <td>4.696799</td>\n",
       "      <td>6.999697</td>\n",
       "      <td>6.136806</td>\n",
       "      <td>cancer</td>\n",
       "    </tr>\n",
       "    <tr>\n",
       "      <th>GSM4043277_HCC011_HTA_2_0.CEL</th>\n",
       "      <td>10.145141</td>\n",
       "      <td>9.423482</td>\n",
       "      <td>4.213270</td>\n",
       "      <td>6.650938</td>\n",
       "      <td>6.495708</td>\n",
       "      <td>cancer</td>\n",
       "    </tr>\n",
       "    <tr>\n",
       "      <th>GSM4043278_HCC013_HTA_2_0.CEL</th>\n",
       "      <td>8.572565</td>\n",
       "      <td>9.752121</td>\n",
       "      <td>4.373660</td>\n",
       "      <td>7.206835</td>\n",
       "      <td>6.021928</td>\n",
       "      <td>cancer</td>\n",
       "    </tr>\n",
       "    <tr>\n",
       "      <th>GSM4043279_HCC015_HTA_2_0.CEL</th>\n",
       "      <td>6.198832</td>\n",
       "      <td>9.950746</td>\n",
       "      <td>4.335583</td>\n",
       "      <td>7.578714</td>\n",
       "      <td>6.027868</td>\n",
       "      <td>cancer</td>\n",
       "    </tr>\n",
       "    <tr>\n",
       "      <th>GSM4043280_HCC016_HTA_2_0.CEL</th>\n",
       "      <td>3.366131</td>\n",
       "      <td>9.838946</td>\n",
       "      <td>4.561381</td>\n",
       "      <td>7.250749</td>\n",
       "      <td>6.433509</td>\n",
       "      <td>cancer</td>\n",
       "    </tr>\n",
       "  </tbody>\n",
       "</table>\n",
       "</div>"
      ],
      "text/plain": [
       "GeneSymbol                           AFP         F2   CEACAM5      TP53  \\\n",
       "GSM4043276_HCC004_HTA_2_0.CEL   3.351665  10.141542  4.696799  6.999697   \n",
       "GSM4043277_HCC011_HTA_2_0.CEL  10.145141   9.423482  4.213270  6.650938   \n",
       "GSM4043278_HCC013_HTA_2_0.CEL   8.572565   9.752121  4.373660  7.206835   \n",
       "GSM4043279_HCC015_HTA_2_0.CEL   6.198832   9.950746  4.335583  7.578714   \n",
       "GSM4043280_HCC016_HTA_2_0.CEL   3.366131   9.838946  4.561381  7.250749   \n",
       "\n",
       "GeneSymbol                         CD8A  labels  \n",
       "GSM4043276_HCC004_HTA_2_0.CEL  6.136806  cancer  \n",
       "GSM4043277_HCC011_HTA_2_0.CEL  6.495708  cancer  \n",
       "GSM4043278_HCC013_HTA_2_0.CEL  6.021928  cancer  \n",
       "GSM4043279_HCC015_HTA_2_0.CEL  6.027868  cancer  \n",
       "GSM4043280_HCC016_HTA_2_0.CEL  6.433509  cancer  "
      ]
     },
     "execution_count": 15,
     "metadata": {},
     "output_type": "execute_result"
    }
   ],
   "source": [
    "data_p1.head()"
   ]
  },
  {
   "cell_type": "code",
   "execution_count": 16,
   "metadata": {},
   "outputs": [
    {
     "data": {
      "text/html": [
       "<div>\n",
       "<style scoped>\n",
       "    .dataframe tbody tr th:only-of-type {\n",
       "        vertical-align: middle;\n",
       "    }\n",
       "\n",
       "    .dataframe tbody tr th {\n",
       "        vertical-align: top;\n",
       "    }\n",
       "\n",
       "    .dataframe thead th {\n",
       "        text-align: right;\n",
       "    }\n",
       "</style>\n",
       "<table border=\"1\" class=\"dataframe\">\n",
       "  <thead>\n",
       "    <tr style=\"text-align: right;\">\n",
       "      <th>GeneSymbol</th>\n",
       "      <th>ASPM</th>\n",
       "      <th>CCNB1</th>\n",
       "      <th>CDK1</th>\n",
       "      <th>DLGAP5</th>\n",
       "      <th>KIF20A</th>\n",
       "      <th>MT1X</th>\n",
       "      <th>TOP2A</th>\n",
       "      <th>labels</th>\n",
       "    </tr>\n",
       "  </thead>\n",
       "  <tbody>\n",
       "    <tr>\n",
       "      <th>GSM4043276_HCC004_HTA_2_0.CEL</th>\n",
       "      <td>4.110110</td>\n",
       "      <td>4.778999</td>\n",
       "      <td>3.260736</td>\n",
       "      <td>3.781032</td>\n",
       "      <td>4.486760</td>\n",
       "      <td>10.131864</td>\n",
       "      <td>4.148789</td>\n",
       "      <td>cancer</td>\n",
       "    </tr>\n",
       "    <tr>\n",
       "      <th>GSM4043277_HCC011_HTA_2_0.CEL</th>\n",
       "      <td>7.796331</td>\n",
       "      <td>6.659267</td>\n",
       "      <td>5.258147</td>\n",
       "      <td>6.176334</td>\n",
       "      <td>6.407129</td>\n",
       "      <td>8.341379</td>\n",
       "      <td>7.523658</td>\n",
       "      <td>cancer</td>\n",
       "    </tr>\n",
       "    <tr>\n",
       "      <th>GSM4043278_HCC013_HTA_2_0.CEL</th>\n",
       "      <td>7.117443</td>\n",
       "      <td>6.207112</td>\n",
       "      <td>4.657269</td>\n",
       "      <td>5.343127</td>\n",
       "      <td>5.979888</td>\n",
       "      <td>6.463230</td>\n",
       "      <td>7.194194</td>\n",
       "      <td>cancer</td>\n",
       "    </tr>\n",
       "    <tr>\n",
       "      <th>GSM4043279_HCC015_HTA_2_0.CEL</th>\n",
       "      <td>5.905121</td>\n",
       "      <td>5.052133</td>\n",
       "      <td>3.854742</td>\n",
       "      <td>4.283997</td>\n",
       "      <td>4.942791</td>\n",
       "      <td>9.036573</td>\n",
       "      <td>5.283474</td>\n",
       "      <td>cancer</td>\n",
       "    </tr>\n",
       "    <tr>\n",
       "      <th>GSM4043280_HCC016_HTA_2_0.CEL</th>\n",
       "      <td>4.901645</td>\n",
       "      <td>5.070973</td>\n",
       "      <td>3.631008</td>\n",
       "      <td>4.396417</td>\n",
       "      <td>4.917592</td>\n",
       "      <td>9.581301</td>\n",
       "      <td>5.286667</td>\n",
       "      <td>cancer</td>\n",
       "    </tr>\n",
       "  </tbody>\n",
       "</table>\n",
       "</div>"
      ],
      "text/plain": [
       "GeneSymbol                         ASPM     CCNB1      CDK1    DLGAP5  \\\n",
       "GSM4043276_HCC004_HTA_2_0.CEL  4.110110  4.778999  3.260736  3.781032   \n",
       "GSM4043277_HCC011_HTA_2_0.CEL  7.796331  6.659267  5.258147  6.176334   \n",
       "GSM4043278_HCC013_HTA_2_0.CEL  7.117443  6.207112  4.657269  5.343127   \n",
       "GSM4043279_HCC015_HTA_2_0.CEL  5.905121  5.052133  3.854742  4.283997   \n",
       "GSM4043280_HCC016_HTA_2_0.CEL  4.901645  5.070973  3.631008  4.396417   \n",
       "\n",
       "GeneSymbol                       KIF20A       MT1X     TOP2A  labels  \n",
       "GSM4043276_HCC004_HTA_2_0.CEL  4.486760  10.131864  4.148789  cancer  \n",
       "GSM4043277_HCC011_HTA_2_0.CEL  6.407129   8.341379  7.523658  cancer  \n",
       "GSM4043278_HCC013_HTA_2_0.CEL  5.979888   6.463230  7.194194  cancer  \n",
       "GSM4043279_HCC015_HTA_2_0.CEL  4.942791   9.036573  5.283474  cancer  \n",
       "GSM4043280_HCC016_HTA_2_0.CEL  4.917592   9.581301  5.286667  cancer  "
      ]
     },
     "execution_count": 16,
     "metadata": {},
     "output_type": "execute_result"
    }
   ],
   "source": [
    "data_p2.head()"
   ]
  },
  {
   "cell_type": "code",
   "execution_count": 17,
   "metadata": {},
   "outputs": [],
   "source": [
    "#junta data_p1 y data_p2\n",
    "data_junta = pd.concat([data_p1, data_p2], axis=1)"
   ]
  },
  {
   "cell_type": "code",
   "execution_count": 18,
   "metadata": {},
   "outputs": [],
   "source": [
    "#matriz de correlacion de pearson\n",
    "correlation_matrix = data_junta.corr(method='pearson')"
   ]
  },
  {
   "cell_type": "code",
   "execution_count": 19,
   "metadata": {},
   "outputs": [
    {
     "data": {
      "image/png": "[encoded data removed]",
      "text/plain": [
       "<Figure size 720x720 with 2 Axes>"
      ]
     },
     "metadata": {
      "needs_background": "light"
     },
     "output_type": "display_data"
    }
   ],
   "source": [
    "#grafica de matriz de correlacion\n",
    "import seaborn as sns\n",
    "import matplotlib.pyplot as plt\n",
    "\n",
    "plt.figure(figsize=(10, 10))\n",
    "sns.heatmap(correlation_matrix, annot=True, fmt='.2f', cmap='coolwarm')\n",
    "plt.show()\n"
   ]
  }
 ],
 "metadata": {
  "kernelspec": {
   "display_name": "Python 3",
   "language": "python",
   "name": "python3"
  },
  "language_info": {
   "codemirror_mode": {
    "name": "ipython",
    "version": 3
   },
   "file_extension": ".py",
   "mimetype": "text/x-python",
   "name": "python",
   "nbconvert_exporter": "python",
   "pygments_lexer": "ipython3",
   "version": "3.10.12"
  }
 },
 "nbformat": 4,
 "nbformat_minor": 2
}
